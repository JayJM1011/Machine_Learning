{
 "cells": [
  {
   "cell_type": "markdown",
   "metadata": {},
   "source": [
    "Installing Dependencies\n",
    "1. PyTorch\n",
    "2. HugFace Transformers (Encoder / Decoder)\n",
    "3. SentencePiece"
   ]
  },
  {
   "cell_type": "code",
   "execution_count": null,
   "metadata": {},
   "outputs": [],
   "source": [
    "!pip install torch==1.8.2+cpu torchvision==0.9.2+cpu torchaudio===0.8.2 -f https://download.pytorch.org/whl/lts/1.8/torch_lts.html"
   ]
  },
  {
   "cell_type": "code",
   "execution_count": null,
   "metadata": {},
   "outputs": [],
   "source": [
    "!pip install transformers"
   ]
  },
  {
   "cell_type": "code",
   "execution_count": null,
   "metadata": {},
   "outputs": [],
   "source": [
    "!pip install sentencepiece"
   ]
  },
  {
   "cell_type": "markdown",
   "metadata": {},
   "source": [
    "Importing Libraries"
   ]
  },
  {
   "cell_type": "code",
   "execution_count": 4,
   "metadata": {},
   "outputs": [],
   "source": [
    "from transformers import PegasusForConditionalGeneration, PegasusTokenizer\n",
    "import torch"
   ]
  },
  {
   "cell_type": "code",
   "execution_count": 5,
   "metadata": {},
   "outputs": [],
   "source": [
    "#Creating Tokenizer\n",
    "tokenizer= PegasusTokenizer.from_pretrained(\"google/pegasus-xsum\")"
   ]
  },
  {
   "cell_type": "code",
   "execution_count": 6,
   "metadata": {},
   "outputs": [],
   "source": [
    "#Loading Model\n",
    "model= PegasusForConditionalGeneration.from_pretrained(\"google/pegasus-xsum\").to(\"cpu\")"
   ]
  },
  {
   "cell_type": "markdown",
   "metadata": {},
   "source": [
    "Performing Summarisation"
   ]
  },
  {
   "cell_type": "code",
   "execution_count": 7,
   "metadata": {},
   "outputs": [],
   "source": [
    "#Text from https://en.wikipedia.org/wiki/Photonic_molecule\n",
    "text= [\"\"\"Photonic molecules are a theoretical natural form of matter which can also be made artificially in which photons bind together to form \"molecules\". They were first predicted in 2007. Photonic molecules are formed when individual (massless) photons \"interact with each other so strongly that they act as though they have mass\". In an alternative definition (which is not equivalent), photons confined to two or more coupled optical cavities also reproduce the physics of interacting atomic energy levels, and have been termed as photonic molecules.\"\"\"]"
   ]
  },
  {
   "cell_type": "code",
   "execution_count": 8,
   "metadata": {},
   "outputs": [],
   "source": [
    "#Tokens [batch= tokens]\n",
    "#Summary [translated= Summary from our Text as Tokens]\n",
    "batch= tokenizer(text, truncation= True, padding= \"longest\", return_tensors= \"pt\").to(\"cpu\")\n",
    "translated= model.generate(**batch)"
   ]
  },
  {
   "cell_type": "code",
   "execution_count": 9,
   "metadata": {},
   "outputs": [
    {
     "data": {
      "text/plain": [
       "{'input_ids': tensor([[ 3958, 14007, 12002,   127,   114,  9637,   710,   515,   113,   841,\n",
       "           162,   137,   163,   129,   266, 33315,   115,   162, 59373, 15356,\n",
       "           424,   112,   515,   198, 81456,   116,  2302,   322,   195,   211,\n",
       "          9198,   115,  8719,  3958, 14007, 12002,   127,  3373,   173,   819,\n",
       "           143, 25746,  2097,   158, 59373,   198, 17670, 14500,   122,   276,\n",
       "           176,   167,  4331,   120,   157,  1787,   130,   577,   157,   133,\n",
       "          2977,  2302,   222,   142,  2049,  3955,   143,  2532,   117,   146,\n",
       "          4526,   312, 59373, 14840,   112,   228,   132,   154,  8212,  8091,\n",
       "         25323,   163, 13476,   109,  8343,   113, 13543, 18489,   644,  1099,\n",
       "           108,   111,   133,   174, 23296,   130, 69175, 12002,   107,     1]]), 'attention_mask': tensor([[1, 1, 1, 1, 1, 1, 1, 1, 1, 1, 1, 1, 1, 1, 1, 1, 1, 1, 1, 1, 1, 1, 1, 1,\n",
       "         1, 1, 1, 1, 1, 1, 1, 1, 1, 1, 1, 1, 1, 1, 1, 1, 1, 1, 1, 1, 1, 1, 1, 1,\n",
       "         1, 1, 1, 1, 1, 1, 1, 1, 1, 1, 1, 1, 1, 1, 1, 1, 1, 1, 1, 1, 1, 1, 1, 1,\n",
       "         1, 1, 1, 1, 1, 1, 1, 1, 1, 1, 1, 1, 1, 1, 1, 1, 1, 1, 1, 1, 1, 1, 1, 1,\n",
       "         1, 1, 1, 1]])}"
      ]
     },
     "execution_count": 9,
     "metadata": {},
     "output_type": "execute_result"
    }
   ],
   "source": [
    "#Token Values and Attention Mask\n",
    "batch"
   ]
  },
  {
   "cell_type": "code",
   "execution_count": 10,
   "metadata": {},
   "outputs": [
    {
     "data": {
      "text/plain": [
       "tensor([[    0, 19027,   134,   109,  5801,  1821,   113,  2470,   143, 29012,\n",
       "           158,   133,   266,   109,   211,  1153, 14007, 12002,   107,     1]])"
      ]
     },
     "execution_count": 10,
     "metadata": {},
     "output_type": "execute_result"
    }
   ],
   "source": [
    "#Summary in Token Values\n",
    "translated"
   ]
  },
  {
   "cell_type": "code",
   "execution_count": 11,
   "metadata": {},
   "outputs": [
    {
     "data": {
      "text/plain": [
       "'Researchers at the Massachusetts Institute of Technology (MIT) have made the first photonic molecules.'"
      ]
     },
     "execution_count": 11,
     "metadata": {},
     "output_type": "execute_result"
    }
   ],
   "source": [
    "#Decoding Summary Token\n",
    "tokenizer.decode(translated[0])"
   ]
  }
 ],
 "metadata": {
  "interpreter": {
   "hash": "28d2a6fc691b5926dd966df0ac8d6d2b567e55266eab6ecc7b2ca4cdf5f47368"
  },
  "kernelspec": {
   "display_name": "Python 3.9.0 64-bit",
   "language": "python",
   "name": "python3"
  },
  "language_info": {
   "codemirror_mode": {
    "name": "ipython",
    "version": 3
   },
   "file_extension": ".py",
   "mimetype": "text/x-python",
   "name": "python",
   "nbconvert_exporter": "python",
   "pygments_lexer": "ipython3",
   "version": "3.9.0"
  },
  "orig_nbformat": 4
 },
 "nbformat": 4,
 "nbformat_minor": 2
}
